{
 "cells": [
  {
   "cell_type": "code",
   "execution_count": 1,
   "metadata": {
    "_cell_guid": "b1076dfc-b9ad-4769-8c92-a6c4dae69d19",
    "_uuid": "8f2839f25d086af736a60e9eeb907d3b93b6e0e5"
   },
   "outputs": [],
   "source": [
    "import numpy as np \n",
    "import pandas as pd \n",
    "import six\n",
    "import seaborn as sn\n",
    "import matplotlib.pyplot as plt\n",
    "from sklearn.model_selection import train_test_split, GridSearchCV, StratifiedKFold\n",
    "from sklearn import tree\n",
    "from sklearn import ensemble\n",
    "from sklearn.metrics import mean_absolute_error\n",
    "import joblib\n",
    "import matplotlib.pyplot as plt\n",
    "from sklearn.feature_selection import RFECV\n",
    "from sklearn.metrics import roc_auc_score\n",
    "from sklearn.metrics import accuracy_score\n",
    "from sklearn.metrics import confusion_matrix\n",
    "from sklearn.metrics import auc\n",
    "from sklearn import metrics\n",
    "from sklearn.metrics import roc_curve, precision_recall_curve, auc, make_scorer, recall_score, accuracy_score, precision_score, confusion_matrix\n",
    "from sklearn.model_selection import RandomizedSearchCV\n",
    "import sys\n",
    "\n",
    "Wetterdata=pd.read_csv('../data/wetter/wetter_19560101_20190226_ohne_Sonne.csv')\n",
    "\n",
    "df = pd.DataFrame(Wetterdata.head(1))"
   ]
  },
  {
   "cell_type": "code",
   "execution_count": 2,
   "metadata": {
    "_uuid": "2cdd0da2d9d9a080a3f37c5b6652d689df597b62",
    "scrolled": true
   },
   "outputs": [],
   "source": [
    "y = Wetterdata['Niederschlagsform']\n",
    "del Wetterdata['Niederschlagsform']\n",
    "\n",
    "featurenames = Wetterdata.columns\n",
    "\n",
    "X = Wetterdata\n",
    "X_train, X_test, y_train, y_test = train_test_split(X, y, test_size=0.3, random_state=1)\n",
    "\n",
    "\n",
    "#Create necessary csv-files. Do this only on first execution\n",
    "# X_test.to_csv(\"../data/wetter/X_test.csv\", header = True, index=False)\n",
    "# X_train.to_csv(\"../data/wetter/X_train.csv\", header = True, index=False)\n",
    "# y_train.to_csv(\"../data/wetter/y_train.csv\", header = True, index=False)\n",
    "# y_test.to_csv(\"../data/wetter/y_test.csv\", header = True, index=False)\n",
    "\n",
    "# X_test.to_csv(\"../data/wetter/X_test_vor.csv\", header = True, index=False)\n",
    "# X_train.to_csv(\"../data/wetter/X_train_vor.csv\", header = True, index=False)\n",
    "# y_train.to_csv(\"../data/wetter/y_train_vor.csv\", header = True, index=False)\n",
    "# y_test.to_csv(\"../data/wetter/y_test_vor.csv\", header = True, index=False)\n",
    "\n"
   ]
  },
  {
   "cell_type": "code",
   "execution_count": 3,
   "metadata": {},
   "outputs": [
    {
     "name": "stdout",
     "output_type": "stream",
     "text": [
      "Optimal number of features : 11\n",
      "Best features : Index(['Wind_max', 'Wind_mittel', 'Schneehöhe', 'Bedeckungsgrad', 'Dampfdruck',\n",
      "       'Luftdruck', 'Temp_mittel', 'rel_Feuchte', 'Temp_max_2m', 'Temp_min_2m',\n",
      "       'Temp_min_5cm'],\n",
      "      dtype='object')\n",
      "[0.08921698 0.06276671 0.00542036 0.27074153 0.05800782 0.14626328\n",
      " 0.06030275 0.12273136 0.07108031 0.05080752 0.06266137]\n"
     ]
    }
   ],
   "source": [
    "#Use RFECV to select the most promising features for representation on website\n",
    "selector = ensemble.RandomForestClassifier(n_estimators=10) \n",
    "rfecv = RFECV(estimator=selector, step=1, cv=5,scoring='accuracy') \n",
    "rfecv = rfecv.fit(X_train, y_train)\n",
    "\n",
    "print('Optimal number of features :', rfecv.n_features_)\n",
    "print('Best features :', X_train.columns[rfecv.support_])\n",
    "print(rfecv.estimator_.feature_importances_ )"
   ]
  },
  {
   "cell_type": "code",
   "execution_count": 4,
   "metadata": {
    "_uuid": "e37bff136260a3a2e163d67fd82def2a3832addb",
    "scrolled": true
   },
   "outputs": [
    {
     "name": "stdout",
     "output_type": "stream",
     "text": [
      "Simple Dec Tree accuracy on the training set: 0.8160584846044235\n",
      "Simple Dec Tree accuracy on the test set: 0.8025440878866724\n",
      "                        Predicted No precipitation  Predicted precipitation\n",
      "True Not precipitation                        1636                      948\n",
      "True precipitation                             418                     3916\n",
      "sens 0.9035532994923858\n",
      "spez 0.6331269349845201\n"
     ]
    }
   ],
   "source": [
    "clf = tree.DecisionTreeClassifier(random_state=4, max_depth=5)\n",
    "\n",
    "#Simple Decision Tree without modifications\n",
    "\n",
    "clf.fit(X_train, y_train)\n",
    "dtPredictionsTrain = clf.predict(X_train)\n",
    "dtPredictionsTest = clf.predict(X_test)\n",
    "\n",
    "print(\"Simple Dec Tree accuracy on the training set:\", accuracy_score(y_train, dtPredictionsTrain))\n",
    "print(\"Simple Dec Tree accuracy on the test set:\", accuracy_score(y_test, dtPredictionsTest))\n",
    "\n",
    "print(pd.DataFrame(\n",
    "    confusion_matrix(y_test, dtPredictionsTest),\n",
    "    columns=['Predicted No precipitation', 'Predicted precipitation'],\n",
    "    index=['True Not precipitation', 'True precipitation']\n",
    "))\n",
    "\n",
    "#Create Confusionmatrix and calculate sensitivity and specificity\n",
    "tn, fp, fn, tp = confusion_matrix(y_test, dtPredictionsTest).ravel()\n",
    "specificity = tn/(tn+fp)\n",
    "sensitivity = tp/(tp+fn)\n",
    "print(\"sens\",sensitivity)\n",
    "print(\"spez\", specificity)"
   ]
  },
  {
   "cell_type": "code",
   "execution_count": 5,
   "metadata": {},
   "outputs": [
    {
     "name": "stderr",
     "output_type": "stream",
     "text": [
      "/home/franz/miniconda3/envs/mainenv/lib/python3.7/site-packages/sklearn/model_selection/_split.py:1978: FutureWarning: The default value of cv will change from 3 to 5 in version 0.22. Specify it explicitly to silence this warning.\n",
      "  warnings.warn(CV_WARNING, FutureWarning)\n"
     ]
    },
    {
     "name": "stdout",
     "output_type": "stream",
     "text": [
      "best score:  0.8135183693699275\n",
      "best params - {'criterion': 'entropy', 'max_depth': 11, 'max_features': 10, 'min_samples_leaf': 78, 'min_samples_split': 2, 'random_state': 4}\n"
     ]
    }
   ],
   "source": [
    "#Use these parameters to find better decision tree\n",
    "param_grid = {\n",
    "    'max_depth': [3,4,11, None],\n",
    "    'min_samples_leaf': [1,2,3,78],\n",
    "    'min_samples_split':[2,3,4,5,7,34],\n",
    "    'max_features': [None,10],\n",
    "    'criterion': ['gini','entropy'],\n",
    "    'random_state': [4,793]\n",
    "}\n",
    "\n",
    "GS_clf = GridSearchCV(clf, param_grid, n_jobs=-1)\n",
    "\n",
    "GS_clf.fit(X_train, y_train)\n",
    "print('best score: ', GS_clf.best_score_)\n",
    "print(\"best params -\", GS_clf.best_params_)\n"
   ]
  },
  {
   "cell_type": "code",
   "execution_count": 6,
   "metadata": {
    "_uuid": "fee4c1350942179bb9961d410be2aa6b64d521b6"
   },
   "outputs": [
    {
     "name": "stdout",
     "output_type": "stream",
     "text": [
      "Tuned Tree accuracy on the training set: 0.8271482559940524\n",
      "Tuned Tree accuracy on the test set: 0.8071697022260769\n"
     ]
    }
   ],
   "source": [
    "clfBestParams = GS_clf.best_estimator_\n",
    "clfBestParams.fit(X_train, y_train)\n",
    "\n",
    "decisionTreePredictionsTrain = clfBestParams.predict(X_train)\n",
    "\n",
    "decisionTreePredictionsTest = clfBestParams.predict(X_test)\n",
    "\n",
    "\n",
    "print(\"Tuned Tree accuracy on the training set:\", accuracy_score(y_train, decisionTreePredictionsTrain))\n",
    "print(\"Tuned Tree accuracy on the test set:\", accuracy_score(y_test, decisionTreePredictionsTest))\n"
   ]
  },
  {
   "cell_type": "code",
   "execution_count": 7,
   "metadata": {
    "scrolled": false
   },
   "outputs": [
    {
     "name": "stdout",
     "output_type": "stream",
     "text": [
      "Fitting 2 folds for each of 1000 candidates, totalling 2000 fits\n"
     ]
    },
    {
     "name": "stderr",
     "output_type": "stream",
     "text": [
      "[Parallel(n_jobs=-1)]: Using backend LokyBackend with 4 concurrent workers.\n",
      "[Parallel(n_jobs=-1)]: Done 176 tasks      | elapsed:    2.3s\n",
      "[Parallel(n_jobs=-1)]: Done 1144 tasks      | elapsed:   13.1s\n"
     ]
    },
    {
     "name": "stdout",
     "output_type": "stream",
     "text": [
      "{'random_state': 793, 'min_samples_split': 34, 'min_samples_leaf': 78, 'max_features': 10, 'max_depth': 11, 'criterion': 'entropy'}\n",
      "base_accuracy:  0.8025440878866724\n",
      "random_accuracy:  0.8119398670135878\n",
      "Improvement of 1.17%.\n"
     ]
    },
    {
     "name": "stderr",
     "output_type": "stream",
     "text": [
      "[Parallel(n_jobs=-1)]: Done 2000 out of 2000 | elapsed:   22.6s finished\n"
     ]
    }
   ],
   "source": [
    "#New approach using RandomizedSearchCV\n",
    "\n",
    "criterion = ['gini', 'entropy']\n",
    "max_depth = [int(x) for x in np.linspace(start = 1, stop = 20, num = 10)]\n",
    "max_features = [int(x) for x in np.linspace(start = 1, stop = 11, num = 11)]\n",
    "min_samples_split = [int(x) for x in np.linspace(start = 2, stop = 100, num = 10)]\n",
    "min_samples_leaf = [int(x) for x in np.linspace(start = 1, stop = 100, num = 10)]\n",
    "random_state = [int(x) for x in np.linspace(start = 0, stop = 2000, num = 200)]\n",
    "\n",
    "random_grid = {'criterion': criterion,\n",
    "               'max_features': max_features,\n",
    "               'max_depth': max_depth,\n",
    "               'min_samples_split': min_samples_split,\n",
    "               'min_samples_leaf': min_samples_leaf,\n",
    "               'random_state': random_state}\n",
    "\n",
    "dt = tree.DecisionTreeClassifier()\n",
    "dt_random = RandomizedSearchCV(estimator = dt, param_distributions = random_grid, n_iter = 1000, cv = 2, verbose=2, random_state=42, n_jobs = -1)\n",
    "dt_random.fit(X_train, y_train)\n",
    "\n",
    "print(dt_random.best_params_)\n",
    "\n",
    "base_model = clf\n",
    "\n",
    "#Calculate and show improvement\n",
    "base_accuracy = accuracy_score(y_test, dtPredictionsTest)\n",
    "print(\"base_accuracy: \",base_accuracy)\n",
    "best_random = dt_random.best_estimator_\n",
    "dt_randomPredictionsTest = dt_random.predict(X_test)\n",
    "random_accuracy = accuracy_score(y_test, dt_randomPredictionsTest)\n",
    "print(\"random_accuracy: \",random_accuracy)\n",
    "\n",
    "print('Improvement of {:0.2f}%.'.format( 100 * (random_accuracy - base_accuracy) / base_accuracy))\n",
    "\n"
   ]
  },
  {
   "cell_type": "code",
   "execution_count": 8,
   "metadata": {
    "_uuid": "dcffb922dca2ca1a5d4d6a053ec22932e72726f8"
   },
   "outputs": [
    {
     "name": "stdout",
     "output_type": "stream",
     "text": [
      "                        Predicted No precipitation  Predicted precipitation\n",
      "True Not precipitation                        1764                      820\n",
      "True precipitation                             514                     3820\n"
     ]
    }
   ],
   "source": [
    "#Print Confusionmatrix\n",
    "print(pd.DataFrame(\n",
    "    confusion_matrix(y_test, decisionTreePredictionsTest),\n",
    "    columns=['Predicted No precipitation', 'Predicted precipitation'],\n",
    "    index=['True Not precipitation', 'True precipitation']\n",
    "))"
   ]
  },
  {
   "cell_type": "code",
   "execution_count": 9,
   "metadata": {
    "_uuid": "26cb9b53cb7881309ffd55656e65e76b53e4bad6"
   },
   "outputs": [
    {
     "name": "stdout",
     "output_type": "stream",
     "text": [
      "sensitivity 0.8814028610982926\n",
      "Specificity 0.6826625386996904\n"
     ]
    }
   ],
   "source": [
    "#Print sensitivity and specificity\n",
    "tn, fp, fn, tp = confusion_matrix(y_test, decisionTreePredictionsTest).ravel()\n",
    "specificity = tn/(tn+fp)\n",
    "sensitivity = tp/(tp+fn)\n",
    "\n",
    "print(\"sensitivity\", sensitivity)\n",
    "print(\"Specificity\", specificity)"
   ]
  },
  {
   "cell_type": "code",
   "execution_count": 15,
   "metadata": {
    "_uuid": "e2053b4f47274b020134fc1ee496d861bb5352c5"
   },
   "outputs": [
    {
     "data": {
      "image/png": "[encoded data removed]",
      "text/plain": [
       "<Figure size 576x432 with 2 Axes>"
      ]
     },
     "metadata": {
      "needs_background": "light"
     },
     "output_type": "display_data"
    }
   ],
   "source": [
    "def roc(clf):\n",
    "    \"\"\"\n",
    "    Plots the ROC on test data. \n",
    "    \n",
    "    Parameters\n",
    "    ----------\n",
    "    clf : DecisionTreeClassifier or RandomForestClassifier\n",
    "        The model of the classifier\n",
    "    \"\"\"\n",
    "    \n",
    "    #Calculate prediction probabilities\n",
    "    probs = clf.predict_proba(X_test)\n",
    "    preds = probs[:,1]\n",
    "    #Calculate roc_auc\n",
    "    fpr, tpr, threshold = metrics.roc_curve(y_test, preds)\n",
    "    roc_auc = metrics.auc(fpr, tpr)\n",
    "    \n",
    "    #Plot ROC\n",
    "    plt.plot(fpr,tpr)\n",
    "    #Plot random classifier performance\n",
    "    plt.plot([0, 1], [0, 1],'r--')\n",
    "    plt.xlim([1, 0])\n",
    "    plt.xticks([1.0,0.8,0.6,0.4,0.2,0.0], [0.0,0.2,0.4,0.6,0.8,1.0])\n",
    "    plt.ylim([0, 1])\n",
    "    plt.ylabel('Sensitivität')\n",
    "    plt.xlabel('Spezifität')\n",
    "    \n",
    "    plt.tight_layout()\n",
    "    plt.show()\n",
    "    print(roc_auc)\n",
    "    \n",
    "def sens(clf):\n",
    "    \"\"\"\n",
    "    Plots the sensitivity/true positive rate/recall on test data.\n",
    "    \n",
    "    Parameters\n",
    "    ----------\n",
    "    clf : DecisionTreeClassifier or RandomForestClassifier\n",
    "        The model of the classifier\n",
    "    \"\"\"\n",
    "    \n",
    "    #Calculate prediction probabilities\n",
    "    probs = clf.predict_proba(X_test)\n",
    "    preds = probs[:,1]\n",
    "    #Calculate roc_auc\n",
    "    fpr, tpr, threshold = metrics.roc_curve(y_test, preds)\n",
    "    roc_auc = metrics.auc(fpr, tpr)\n",
    "     \n",
    "    #Plot sensitivity\n",
    "    plt.plot(threshold,tpr)\n",
    "    plt.xlim([0, 1])\n",
    "    plt.ylim([0, 1])\n",
    "    plt.ylabel('Sensitivität')\n",
    "    plt.xlabel('Schwellenwert')\n",
    "    \n",
    "    plt.tight_layout()\n",
    "    plt.show()\n",
    "    \n",
    "def spez(clf):\n",
    "    \"\"\"\n",
    "    Plots the specificity on test data.\n",
    "    \n",
    "    Parameters\n",
    "    ----------\n",
    "    clf : DecisionTreeClassifier or RandomForestClassifier\n",
    "        The model of the classifier\n",
    "    \"\"\"\n",
    "    \n",
    "    #Calculate prediction probabilities\n",
    "    probs = clf.predict_proba(X_test)\n",
    "    preds = probs[:,1]\n",
    "    #Calculate roc_auc\n",
    "    fpr, tpr, threshold = metrics.roc_curve(y_test, preds)\n",
    "    roc_auc = metrics.auc(fpr, tpr)\n",
    "    \n",
    "    #Plot specificity\n",
    "    plt.plot(threshold,1-fpr)\n",
    "\n",
    "    plt.xlim([0, 1])\n",
    "    plt.ylim([0, 1])\n",
    "    plt.ylabel('Spezifität')\n",
    "    plt.xlabel('Schwellenwert')\n",
    "    \n",
    "    plt.tight_layout()\n",
    "    plt.show()\n",
    "    \n",
    "def sensspez(clf):\n",
    "    \"\"\"\n",
    "    Plots the sensitivity and specificity on test data in a combined plot.\n",
    "    \n",
    "    Parameters\n",
    "    ----------\n",
    "    clf : DecisionTreeClassifier or RandomForestClassifier\n",
    "        The model of the classifier\n",
    "    \"\"\"\n",
    "    \n",
    "    #Calculate prediction probabilities\n",
    "    probs = clf.predict_proba(X_test)\n",
    "    preds = probs[:,1]\n",
    "    #Calculate roc_auc\n",
    "    fpr, tpr, threshold = metrics.roc_curve(y_test, preds)\n",
    "    roc_auc = metrics.auc(fpr, tpr)\n",
    "    \n",
    "    plt.figure(figsize=(8, 6))\n",
    "    plt.subplot(221)\n",
    "    #Plot sensitivity\n",
    "    plt.plot(threshold,tpr)\n",
    "    plt.xlim([0, 1])\n",
    "    plt.ylim([0, 1])\n",
    "    plt.ylabel('Sensitivität')\n",
    "    plt.xlabel('Schwellenwert')\n",
    "    \n",
    "    plt.subplot(222)\n",
    "    #Plot specificity\n",
    "    plt.plot(threshold,1-fpr)\n",
    "\n",
    "    plt.xlim([0, 1])\n",
    "    plt.ylim([0, 1])\n",
    "    plt.ylabel('Spezifität')\n",
    "    plt.xlabel('Schwellenwert')\n",
    "    \n",
    "    plt.tight_layout()\n",
    "    plt.show()\n",
    "\n",
    "sensspez(clfBestParams)"
   ]
  },
  {
   "cell_type": "code",
   "execution_count": 12,
   "metadata": {
    "scrolled": false
   },
   "outputs": [
    {
     "name": "stderr",
     "output_type": "stream",
     "text": [
      "/home/franz/miniconda3/envs/mainenv/lib/python3.7/site-packages/sklearn/ensemble/forest.py:245: FutureWarning: The default value of n_estimators will change from 10 in version 0.20 to 100 in 0.22.\n",
      "  \"10 in version 0.20 to 100 in 0.22.\", FutureWarning)\n"
     ]
    },
    {
     "name": "stdout",
     "output_type": "stream",
     "text": [
      "Random Forest accuracy on the training set: 0.9899634471222353\n",
      "Random Forest accuracy on the test set: 0.8048568950563747\n",
      "                        Predicted No precipitation  Predicted precipitation\n",
      "True Not precipitation                        1909                      675\n",
      "True precipitation                             675                     3659\n",
      "sensitivity 0.8442547300415321\n",
      "Specificity 0.7387770897832817\n"
     ]
    },
    {
     "name": "stderr",
     "output_type": "stream",
     "text": [
      "/home/franz/miniconda3/envs/mainenv/lib/python3.7/site-packages/sklearn/ensemble/forest.py:245: FutureWarning: The default value of n_estimators will change from 10 in version 0.20 to 100 in 0.22.\n",
      "  \"10 in version 0.20 to 100 in 0.22.\", FutureWarning)\n"
     ]
    },
    {
     "name": "stdout",
     "output_type": "stream",
     "text": [
      "Random Forest optimised accuracy on the training set: 0.8729942382751998\n",
      "Random Forest optimised accuracy on the test set: 0.7548424400115641\n"
     ]
    },
    {
     "data": {
      "image/png": "[encoded data removed]",
      "text/plain": [
       "<Figure size 576x576 with 1 Axes>"
      ]
     },
     "metadata": {
      "needs_background": "light"
     },
     "output_type": "display_data"
    }
   ],
   "source": [
    "#Random Forest\n",
    "rf = ensemble.RandomForestClassifier(random_state=7)\n",
    "rf.fit(X_train, y_train)\n",
    "\n",
    "rfPredictionsTrain = rf.predict(X_train)\n",
    "\n",
    "rfPredictionsTest = rf.predict(X_test)\n",
    "\n",
    "\n",
    "print(\"Random Forest accuracy on the training set:\", accuracy_score(y_train, rfPredictionsTrain))\n",
    "\n",
    "print(\"Random Forest accuracy on the test set:\", accuracy_score(y_test, rfPredictionsTest))\n",
    "\n",
    "#Calculate Confusionmatrix and Sensitivity and Specificity\n",
    "print(pd.DataFrame(\n",
    "    confusion_matrix(y_test, rfPredictionsTest),\n",
    "    columns=['Predicted No precipitation', 'Predicted precipitation'],\n",
    "    index=['True Not precipitation', 'True precipitation']\n",
    "))\n",
    "\n",
    "tn, fp, fn, tp = confusion_matrix(y_test, rfPredictionsTest).ravel()\n",
    "specificity = tn/(tn+fp)\n",
    "sensitivity = tp/(tp+fn)\n",
    "\n",
    "print(\"sensitivity\", sensitivity)\n",
    "print(\"Specificity\", specificity)\n",
    "\n",
    "#Optimized Random Forest for sensitivity\n",
    "rf_opt = ensemble.RandomForestClassifier(n_jobs=-1, random_state=1)\n",
    "\n",
    "\n",
    "rf_opt.fit(X_train, y_train)\n",
    "y_scores = rf_opt.predict_proba(X_test)[:,1]\n",
    "p, r, thresholds = precision_recall_curve(y_test, y_scores)\n",
    "\n",
    "\n",
    "def plot_precision_recall_vs_threshold(p, r, thresholds):\n",
    "    \"\"\"\n",
    "    Plots the precision-recall-graph for different thresholds. \n",
    "    Uses output of precision_recall_curve function in scikit-learn\n",
    "    \n",
    "    Parameters\n",
    "    ----------\n",
    "    p : numpy.ndarray\n",
    "        The list of all precision values\n",
    "    r : numpy.ndarray\n",
    "        The list of all recall values\n",
    "    thresholds : numpy.ndarray\n",
    "        The list of all thresholds\n",
    "    \"\"\"\n",
    "    \n",
    "    plt.figure(figsize=(8, 8))\n",
    "    plt.title(\"Sensitivität und Spezifität als eine Funktion des Schwellenwerts\")\n",
    "    plt.plot(thresholds, p[:-1], \"b--\", label=\"Spezifität\")\n",
    "    plt.plot(thresholds, r[:-1], \"g-\", label=\"Sensitivität\")\n",
    "    plt.ylabel(\"Genauigkeit\")\n",
    "    plt.xlabel(\"Schwellenwert\")\n",
    "    plt.legend(loc='best')\n",
    "    \n",
    "threshold = 0.2\n",
    "plot_precision_recall_vs_threshold(p, r, thresholds)\n",
    "\n",
    "rf_optPredictionsTrain = rf_opt.predict(X_train)\n",
    "\n",
    "rf_optPredictionsTest = rf_opt.predict(X_test)\n",
    "\n",
    "\n",
    "predicted_probaTrain = rf_opt.predict_proba(X_train)\n",
    "rf_optPredictionsTrain = (predicted_probaTrain [:,1] >= threshold).astype('int')\n",
    "\n",
    "predicted_probaTest = rf_opt.predict_proba(X_test)\n",
    "rf_optPredictionsTest = (predicted_probaTest [:,1] >= threshold).astype('int')\n",
    "\n",
    "\n",
    "print(\"Random Forest optimised accuracy on the training set:\", accuracy_score(y_train, rf_optPredictionsTrain))\n",
    "\n",
    "print(\"Random Forest optimised accuracy on the test set:\", accuracy_score(y_test, rf_optPredictionsTest))\n"
   ]
  },
  {
   "cell_type": "code",
   "execution_count": 16,
   "metadata": {},
   "outputs": [
    {
     "data": {
      "image/png": "[encoded data removed]",
      "text/plain": [
       "<Figure size 432x288 with 1 Axes>"
      ]
     },
     "metadata": {
      "needs_background": "light"
     },
     "output_type": "display_data"
    },
    {
     "name": "stdout",
     "output_type": "stream",
     "text": [
      "0.871520331713673\n"
     ]
    },
    {
     "data": {
      "image/png": "[encoded data removed]",
      "text/plain": [
       "<Figure size 432x288 with 1 Axes>"
      ]
     },
     "metadata": {
      "needs_background": "light"
     },
     "output_type": "display_data"
    },
    {
     "data": {
      "image/png": "[encoded data removed]",
      "text/plain": [
       "<Figure size 432x288 with 1 Axes>"
      ]
     },
     "metadata": {
      "needs_background": "light"
     },
     "output_type": "display_data"
    },
    {
     "data": {
      "image/png": "[encoded data removed]",
      "text/plain": [
       "<Figure size 576x432 with 2 Axes>"
      ]
     },
     "metadata": {
      "needs_background": "light"
     },
     "output_type": "display_data"
    }
   ],
   "source": [
    "roc(rf_opt)\n",
    "sens(rf_opt)\n",
    "spez(rf_opt)\n",
    "sensspez(rf_opt)"
   ]
  },
  {
   "cell_type": "code",
   "execution_count": 14,
   "metadata": {},
   "outputs": [
    {
     "name": "stdout",
     "output_type": "stream",
     "text": [
      "K Nearest Neighbors accuracy on the training set: 0.8254754971810916\n",
      "K Nearest Neighbors accuracy on the test set: 0.8138190228389708\n"
     ]
    },
    {
     "data": {
      "image/png": "[encoded data removed]",
      "text/plain": [
       "<Figure size 432x288 with 1 Axes>"
      ]
     },
     "metadata": {
      "needs_background": "light"
     },
     "output_type": "display_data"
    },
    {
     "name": "stdout",
     "output_type": "stream",
     "text": [
      "Maximum KNN Score is 81.38% at\n",
      "[30]\n",
      "                        Predicted No precipitation  Predicted precipitation\n",
      "True Not precipitation                        1843                      741\n",
      "True precipitation                             547                     3787\n",
      "sensitivity 0.8737886479003231\n",
      "Specificity 0.7132352941176471\n"
     ]
    }
   ],
   "source": [
    "#KNN\n",
    "from sklearn.neighbors import KNeighborsClassifier\n",
    "\n",
    "knn = KNeighborsClassifier(n_neighbors=30)\n",
    "knn.fit(X_train, y_train)\n",
    "\n",
    "knnPredictionsTrain = knn.predict(X_train)\n",
    "\n",
    "knnPredictionsTest = knn.predict(X_test)\n",
    "\n",
    "\n",
    "print(\"K Nearest Neighbors accuracy on the training set:\", accuracy_score(y_train, knnPredictionsTrain))\n",
    "\n",
    "print(\"K Nearest Neighbors accuracy on the test set:\", accuracy_score(y_test, knnPredictionsTest))\n",
    "\n",
    "scoreList = []\n",
    "for i in range(1,50):\n",
    "    knn2 = KNeighborsClassifier(n_neighbors = i)\n",
    "    knn2.fit(X_train, y_train)\n",
    "    scoreList.append(knn2.score(X_test, y_test))\n",
    "    \n",
    "plt.plot(range(1,50), scoreList)\n",
    "plt.xticks(np.arange(1,50,1))\n",
    "plt.xlabel(\"K value\")\n",
    "plt.ylabel(\"Score\")\n",
    "plt.show()\n",
    "\n",
    "m = max(scoreList)\n",
    "[i for i, j in enumerate(scoreList) if j == m]\n",
    "\n",
    "print(\"Maximum KNN Score is {:.2f}% at\".format(m*100))\n",
    "print([i+1 for i, j in enumerate(scoreList) if j == m])\n",
    "#Sensitivity and Specificity\n",
    "print(pd.DataFrame(\n",
    "    confusion_matrix(y_test, knnPredictionsTest),\n",
    "    columns=['Predicted No precipitation', 'Predicted precipitation'],\n",
    "    index=['True Not precipitation', 'True precipitation']\n",
    "))\n",
    "tn, fp, fn, tp = confusion_matrix(y_test, knnPredictionsTest).ravel()\n",
    "specificity = tn/(tn+fp)\n",
    "sensitivity = tp/(tp+fn)\n",
    "\n",
    "print(\"sensitivity\", sensitivity)\n",
    "print(\"Specificity\", specificity)\n"
   ]
  },
  {
   "cell_type": "code",
   "execution_count": 8,
   "metadata": {},
   "outputs": [],
   "source": [
    "#Store models permanently\n",
    "# dtModel_GS = open(\"models/dtmodel_gs.pkl\",\"wb\")\n",
    "# joblib.dump(GS_clf,dtModel_GS)\n",
    "# dtModel_GS.close\n",
    "\n",
    "# dtModel_simple = open(\"models/dtmodel_simple.pkl\", \"wb\")\n",
    "# joblib.dump(clf, dtModel_simple)\n",
    "# dtModel_simple.close\n",
    "\n",
    "# knn_model = open(\"models/knn_model.pkl\", \"wb\")\n",
    "# joblib.dump(knn, knn_model)\n",
    "# knn_model.close\n",
    "\n",
    "# rf_model = open(\"models/rf_model.pkl\", \"wb\")\n",
    "# joblib.dump(rf, rf_model)\n",
    "# rf_model.close\n",
    "\n",
    "# rf_opt_model = open(\"models/rf_opt_model.pkl\", \"wb\")\n",
    "# joblib.dump(rf_opt, rf_opt_model)\n",
    "# rf_opt_model.close"
   ]
  },
  {
   "cell_type": "code",
   "execution_count": 19,
   "metadata": {},
   "outputs": [],
   "source": [
    "# #clf_2 for other Decision Tree Example\n",
    "# clf_2 = tree.DecisionTreeClassifier(random_state=333, criterion='gini', min_samples_leaf=6, max_features=0.1)\n",
    "# clf_2.fit(X_train,y_train)\n",
    "# dt2PredictionsTrain = clf_2.predict(X_train)\n",
    "# dt2PredictionsTest = clf_2.predict(X_test)\n",
    "\n",
    "# print(\"Simple Dec Tree 2 accuracy on the training set:\", accuracy_score(y_train, dt2PredictionsTrain))\n",
    "# print(\"Simple Dec Tree 2 accuracy on the test set:\", accuracy_score(y_test, dt2PredictionsTest))\n",
    "\n",
    "# tree.export_graphviz(clf_2, out_file='wetter_tree_ohne_Sonne_2.dot', feature_names= X_train.columns,\n",
    "#                                 class_names= ['0', '1'],\n",
    "#                                 filled=True, rounded=True,\n",
    "#                                 special_characters=True)\n",
    "\n",
    "# !dot -T png wetter_tree_ohne_Sonne_2.dot -o ../static/images/wetter_tree_ohne_Sonne_2.png\n",
    "\n",
    "# tree.export_graphviz(clfBestParams, out_file='wetter_tree_ohne_Sonne_gs.dot', feature_names= X_train.columns,\n",
    "#                                 class_names= ['0', '1'],\n",
    "#                                 filled=True, rounded=True,\n",
    "#                                 special_characters=True)\n",
    "\n",
    "# !dot -T png wetter_tree_ohne_Sonne_gs.dot -o ../static/images/wetter_tree_ohne_Sonne_gs.png"
   ]
  },
  {
   "cell_type": "code",
   "execution_count": 20,
   "metadata": {},
   "outputs": [],
   "source": [
    "#Tree for Animation\n",
    "\n",
    "# AnimationData=pd.read_csv('../data/wetter/wetter_20170826_20190226_ohne_Sonne_animation.csv')\n",
    "# y_anim = AnimationData['Niederschlagsform']\n",
    "\n",
    "# del AnimationData['Niederschlagsform']\n",
    "\n",
    "\n",
    "# X_anim = AnimationData\n",
    "# X_anim_train, X_anim_test, y_anim_train, y_anim_test = train_test_split(X_anim, y_anim, test_size=0.3, random_state=1)\n",
    "\n",
    "\n",
    "# animation = tree.DecisionTreeClassifier(random_state=3, criterion='gini', min_samples_leaf=5, max_features=1, max_depth=3)\n",
    "# animation.fit(X_anim_train,y_anim_train)\n",
    "# animationPredictionsTrain = animation.predict(X_anim_train)\n",
    "# animationPredictionsTest = animation.predict(X_anim_test)\n",
    "\n",
    "# print(\"Animation accuracy on the training set:\", accuracy_score(y_anim_train, animationPredictionsTrain))\n",
    "# print(\"Animation accuracy on the test set:\", accuracy_score(y_anim_test, animationPredictionsTest))\n",
    "\n",
    "# tree.export_graphviz(animation, out_file='wetter_tree_ohne_Sonne_animation.dot', feature_names= X_anim_train.columns,\n",
    "#                                 class_names= ['0', '1'],\n",
    "#                                 filled=True, rounded=True,\n",
    "#                                 special_characters=True)\n",
    "\n",
    "# !dot -T png -Gdpi=600 wetter_tree_ohne_Sonne_animation.dot -o ../static/images/wetter_tree_ohne_Sonne_animation.png"
   ]
  },
  {
   "cell_type": "code",
   "execution_count": 21,
   "metadata": {},
   "outputs": [],
   "source": [
    "#Trees for different parameter explanation\n",
    "\n",
    "# for i in np.arange(1,5):\n",
    "#     t = tree.DecisionTreeClassifier(max_depth=i)\n",
    "#     t.fit(X_train, y_train)\n",
    "#     tree.export_graphviz(t, out_file='max_depth_{}.dot'.format(i), feature_names= X_train.columns,\n",
    "#                                 class_names= ['0', '1'],\n",
    "#                                 filled=True, rounded=True,\n",
    "#                                 special_characters=True)\n",
    "\n",
    "# !dot -T png -Gdpi=300 max_depth_1.dot -o ../static/images/max_depth_1.png\n",
    "# !dot -T png -Gdpi=300 max_depth_2.dot -o ../static/images/max_depth_2.png\n",
    "# !dot -T png -Gdpi=300 max_depth_3.dot -o ../static/images/max_depth_3.png\n",
    "# !dot -T png -Gdpi=300 max_depth_4.dot -o ../static/images/max_depth_4.png"
   ]
  },
  {
   "cell_type": "code",
   "execution_count": null,
   "metadata": {},
   "outputs": [],
   "source": []
  }
 ],
 "metadata": {
  "kernelspec": {
   "display_name": "Python 3",
   "language": "python",
   "name": "python3"
  },
  "language_info": {
   "codemirror_mode": {
    "name": "ipython",
    "version": 3
   },
   "file_extension": ".py",
   "mimetype": "text/x-python",
   "name": "python",
   "nbconvert_exporter": "python",
   "pygments_lexer": "ipython3",
   "version": "3.7.5"
  }
 },
 "nbformat": 4,
 "nbformat_minor": 1
}
