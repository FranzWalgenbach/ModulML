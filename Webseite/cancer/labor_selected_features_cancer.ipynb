{
 "cells": [
  {
   "cell_type": "code",
   "execution_count": 1,
   "metadata": {},
   "outputs": [],
   "source": [
    "import numpy as np \n",
    "import pandas as pd\n",
    "from sklearn.model_selection import train_test_split, GridSearchCV, StratifiedKFold, cross_val_score, KFold\n",
    "from sklearn import tree\n",
    "from sklearn import ensemble\n",
    "from sklearn.metrics import accuracy_score\n",
    "from sklearn.metrics import confusion_matrix\n",
    "from sklearn.metrics import precision_recall_curve\n",
    "import matplotlib.pyplot as plt\n",
    "from sklearn.model_selection import RandomizedSearchCV\n",
    "import sys\n",
    "\n",
    "\n",
    "data=pd.read_csv('../data/cancer/data.csv')"
   ]
  },
  {
   "cell_type": "code",
   "execution_count": 2,
   "metadata": {},
   "outputs": [
    {
     "data": {
      "text/html": [
       "<div>\n",
       "<style scoped>\n",
       "    .dataframe tbody tr th:only-of-type {\n",
       "        vertical-align: middle;\n",
       "    }\n",
       "\n",
       "    .dataframe tbody tr th {\n",
       "        vertical-align: top;\n",
       "    }\n",
       "\n",
       "    .dataframe thead th {\n",
       "        text-align: right;\n",
       "    }\n",
       "</style>\n",
       "<table border=\"1\" class=\"dataframe\">\n",
       "  <thead>\n",
       "    <tr style=\"text-align: right;\">\n",
       "      <th></th>\n",
       "      <th>texture_mean</th>\n",
       "      <th>area_mean</th>\n",
       "      <th>smoothness_mean</th>\n",
       "      <th>concavity_mean</th>\n",
       "      <th>area_se</th>\n",
       "      <th>concavity_se</th>\n",
       "      <th>smoothness_worst</th>\n",
       "      <th>concavity_worst</th>\n",
       "      <th>symmetry_worst</th>\n",
       "    </tr>\n",
       "  </thead>\n",
       "  <tbody>\n",
       "    <tr>\n",
       "      <th>count</th>\n",
       "      <td>569.000000</td>\n",
       "      <td>569.000000</td>\n",
       "      <td>569.000000</td>\n",
       "      <td>569.000000</td>\n",
       "      <td>569.000000</td>\n",
       "      <td>569.000000</td>\n",
       "      <td>569.000000</td>\n",
       "      <td>569.000000</td>\n",
       "      <td>569.000000</td>\n",
       "    </tr>\n",
       "    <tr>\n",
       "      <th>mean</th>\n",
       "      <td>19.289649</td>\n",
       "      <td>654.889104</td>\n",
       "      <td>0.096360</td>\n",
       "      <td>0.088799</td>\n",
       "      <td>40.337079</td>\n",
       "      <td>0.031894</td>\n",
       "      <td>0.132369</td>\n",
       "      <td>0.272188</td>\n",
       "      <td>0.290076</td>\n",
       "    </tr>\n",
       "    <tr>\n",
       "      <th>std</th>\n",
       "      <td>4.301036</td>\n",
       "      <td>351.914129</td>\n",
       "      <td>0.014064</td>\n",
       "      <td>0.079720</td>\n",
       "      <td>45.491006</td>\n",
       "      <td>0.030186</td>\n",
       "      <td>0.022832</td>\n",
       "      <td>0.208624</td>\n",
       "      <td>0.061867</td>\n",
       "    </tr>\n",
       "    <tr>\n",
       "      <th>min</th>\n",
       "      <td>9.710000</td>\n",
       "      <td>143.500000</td>\n",
       "      <td>0.052630</td>\n",
       "      <td>0.000000</td>\n",
       "      <td>6.802000</td>\n",
       "      <td>0.000000</td>\n",
       "      <td>0.071170</td>\n",
       "      <td>0.000000</td>\n",
       "      <td>0.156500</td>\n",
       "    </tr>\n",
       "    <tr>\n",
       "      <th>25%</th>\n",
       "      <td>16.170000</td>\n",
       "      <td>420.300000</td>\n",
       "      <td>0.086370</td>\n",
       "      <td>0.029560</td>\n",
       "      <td>17.850000</td>\n",
       "      <td>0.015090</td>\n",
       "      <td>0.116600</td>\n",
       "      <td>0.114500</td>\n",
       "      <td>0.250400</td>\n",
       "    </tr>\n",
       "    <tr>\n",
       "      <th>50%</th>\n",
       "      <td>18.840000</td>\n",
       "      <td>551.100000</td>\n",
       "      <td>0.095870</td>\n",
       "      <td>0.061540</td>\n",
       "      <td>24.530000</td>\n",
       "      <td>0.025890</td>\n",
       "      <td>0.131300</td>\n",
       "      <td>0.226700</td>\n",
       "      <td>0.282200</td>\n",
       "    </tr>\n",
       "    <tr>\n",
       "      <th>75%</th>\n",
       "      <td>21.800000</td>\n",
       "      <td>782.700000</td>\n",
       "      <td>0.105300</td>\n",
       "      <td>0.130700</td>\n",
       "      <td>45.190000</td>\n",
       "      <td>0.042050</td>\n",
       "      <td>0.146000</td>\n",
       "      <td>0.382900</td>\n",
       "      <td>0.317900</td>\n",
       "    </tr>\n",
       "    <tr>\n",
       "      <th>max</th>\n",
       "      <td>39.280000</td>\n",
       "      <td>2501.000000</td>\n",
       "      <td>0.163400</td>\n",
       "      <td>0.426800</td>\n",
       "      <td>542.200000</td>\n",
       "      <td>0.396000</td>\n",
       "      <td>0.222600</td>\n",
       "      <td>1.252000</td>\n",
       "      <td>0.663800</td>\n",
       "    </tr>\n",
       "  </tbody>\n",
       "</table>\n",
       "</div>"
      ],
      "text/plain": [
       "       texture_mean    area_mean  smoothness_mean  concavity_mean     area_se  \\\n",
       "count    569.000000   569.000000       569.000000      569.000000  569.000000   \n",
       "mean      19.289649   654.889104         0.096360        0.088799   40.337079   \n",
       "std        4.301036   351.914129         0.014064        0.079720   45.491006   \n",
       "min        9.710000   143.500000         0.052630        0.000000    6.802000   \n",
       "25%       16.170000   420.300000         0.086370        0.029560   17.850000   \n",
       "50%       18.840000   551.100000         0.095870        0.061540   24.530000   \n",
       "75%       21.800000   782.700000         0.105300        0.130700   45.190000   \n",
       "max       39.280000  2501.000000         0.163400        0.426800  542.200000   \n",
       "\n",
       "       concavity_se  smoothness_worst  concavity_worst  symmetry_worst  \n",
       "count    569.000000        569.000000       569.000000      569.000000  \n",
       "mean       0.031894          0.132369         0.272188        0.290076  \n",
       "std        0.030186          0.022832         0.208624        0.061867  \n",
       "min        0.000000          0.071170         0.000000        0.156500  \n",
       "25%        0.015090          0.116600         0.114500        0.250400  \n",
       "50%        0.025890          0.131300         0.226700        0.282200  \n",
       "75%        0.042050          0.146000         0.382900        0.317900  \n",
       "max        0.396000          0.222600         1.252000        0.663800  "
      ]
     },
     "execution_count": 2,
     "metadata": {},
     "output_type": "execute_result"
    }
   ],
   "source": [
    "y = data['diagnosis']\n",
    "\n",
    "del data['diagnosis']\n",
    "#Select only specific columns\n",
    "interesting_cols = ['texture_mean','area_mean','smoothness_mean','concavity_mean','area_se','concavity_se','smoothness_worst','concavity_worst','symmetry_worst']\n",
    "\n",
    "X = data[interesting_cols]\n",
    "\n",
    "X_train, X_test, y_train, y_test = train_test_split(X, y, test_size=0.2, random_state=1)\n",
    "\n",
    "X_train, X_val, y_train, y_val = train_test_split(X_train, y_train, test_size=0.2, random_state=1)\n",
    "\n",
    "X_train_val = pd.concat([X_train, X_val])\n",
    "y_train_val = pd.concat([y_train, y_val])\n",
    "\n",
    "#Create necessary csv-files. Do this only on first execution\n",
    "# X_test.to_csv(\"../data/cancer/X_test.csv\", header = False, index=False)\n",
    "# X_train.to_csv(\"../data/cancer/X_train.csv\", header = False, index=False)\n",
    "# X_val.to_csv(\"../data/cancer/X_val.csv\", header = False, index=False)\n",
    "# y_train.to_csv(\"../data/cancer/y_train.csv\", index=False)\n",
    "# y_test.to_csv(\"../data/cancer/y_test.csv\", index=False)\n",
    "# y_val.to_csv(\"../data/cancer/y_val.csv\", index=False)\n",
    "\n",
    "X.describe()"
   ]
  },
  {
   "cell_type": "code",
   "execution_count": 3,
   "metadata": {},
   "outputs": [
    {
     "name": "stdout",
     "output_type": "stream",
     "text": [
      "Simple Dec Tree accuracy on the training set: 1.0\n",
      "Simple Dec Tree accuracy on the test set: 0.8859649122807017\n",
      "           Predicted No cancer  Predicted cancer\n",
      "No cancer                   67                 5\n",
      "cancer                       8                34\n",
      "\n",
      "Simple\n",
      "\n",
      "Sensitivity:  0.8095238095238095\n",
      "Spezifität:  0.9305555555555556\n",
      "Parameter of simple decision Tree:  {'class_weight': None, 'criterion': 'gini', 'max_depth': None, 'max_features': None, 'max_leaf_nodes': None, 'min_impurity_decrease': 0.0, 'min_impurity_split': None, 'min_samples_leaf': 1, 'min_samples_split': 2, 'min_weight_fraction_leaf': 0.0, 'presort': False, 'random_state': 4, 'splitter': 'best'}\n"
     ]
    }
   ],
   "source": [
    "clf = tree.DecisionTreeClassifier(random_state=4)\n",
    "\n",
    "# simple Decision Tree without optimization\n",
    "\n",
    "clf.fit(X_train_val, y_train_val)\n",
    "dtPredictionsTrain = clf.predict(X_train_val)\n",
    "dtPredictionsTest = clf.predict(X_test)\n",
    "\n",
    "print(\"Simple Dec Tree accuracy on the training set:\", accuracy_score(y_train_val, dtPredictionsTrain))\n",
    "print(\"Simple Dec Tree accuracy on the test set:\", accuracy_score(y_test, dtPredictionsTest))\n",
    "\n",
    "print(pd.DataFrame(\n",
    "    confusion_matrix(y_test, dtPredictionsTest),\n",
    "    columns=['Predicted No cancer', 'Predicted cancer'],\n",
    "    index=['No cancer', 'cancer']\n",
    "))\n",
    "\n",
    "\n",
    "tn, fp, fn, tp = confusion_matrix(y_test, dtPredictionsTest).ravel()\n",
    "specificity = tn/(tn+fp)\n",
    "sensitivity = tp/(tp+fn)\n",
    "print(\"\\nSimple\\n\")\n",
    "print(\"Sensitivität: \", sensitivity)\n",
    "print(\"Spezifität: \", specificity)\n",
    "print(\"Parameter des simplen Decision Trees: \", clf.get_params())\n"
   ]
  },
  {
   "cell_type": "code",
   "execution_count": 4,
   "metadata": {},
   "outputs": [
    {
     "name": "stdout",
     "output_type": "stream",
     "text": [
      "Fitting 2 folds for each of 5000 candidates, totalling 10000 fits\n"
     ]
    },
    {
     "name": "stderr",
     "output_type": "stream",
     "text": [
      "[Parallel(n_jobs=-1)]: Using backend LokyBackend with 4 concurrent workers.\n",
      "[Parallel(n_jobs=-1)]: Done  62 tasks      | elapsed:    1.9s\n",
      "[Parallel(n_jobs=-1)]: Done 2724 tasks      | elapsed:    7.1s\n",
      "[Parallel(n_jobs=-1)]: Done 7190 tasks      | elapsed:   15.2s\n"
     ]
    },
    {
     "name": "stdout",
     "output_type": "stream",
     "text": [
      "{'random_state': 3621, 'min_samples_split': 18, 'min_samples_leaf': 5, 'max_features': 8, 'max_depth': 18, 'criterion': 'gini'}\n",
      "base_accuracy:  0.8859649122807017\n",
      "random_accuracy:  0.9035087719298246\n",
      "Improvement of 1.98%.\n"
     ]
    },
    {
     "name": "stderr",
     "output_type": "stream",
     "text": [
      "[Parallel(n_jobs=-1)]: Done 10000 out of 10000 | elapsed:   20.0s finished\n",
      "/home/Uni/blaucloud/Informatik/Arbeit/ml/env/lib/python3.7/site-packages/sklearn/model_selection/_search.py:813: DeprecationWarning: The default of the `iid` parameter will change from True to False in version 0.22 and will be removed in 0.24. This will change numeric results when test-set sizes are unequal.\n",
      "  DeprecationWarning)\n"
     ]
    }
   ],
   "source": [
    "#New approach using RandomizedSearchCV\n",
    "\n",
    "criterion = ['gini', 'entropy']\n",
    "max_depth = [int(x) for x in np.linspace(start = 1, stop = 20, num = 20)]\n",
    "max_features = [int(x) for x in np.linspace(start = 1, stop = 9, num = 9)]\n",
    "min_samples_split = [int(x) for x in np.linspace(start = 2, stop = 100, num = 99)]\n",
    "min_samples_leaf = [int(x) for x in np.linspace(start = 1, stop = 100, num = 100)]\n",
    "random_state = [int(x) for x in np.linspace(start = 0, stop = 10000, num = 3000)]\n",
    "\n",
    "random_grid = {'criterion': criterion,\n",
    "               'max_features': max_features,\n",
    "               'max_depth': max_depth,\n",
    "               'min_samples_split': min_samples_split,\n",
    "               'min_samples_leaf': min_samples_leaf,\n",
    "               'random_state': random_state}\n",
    "\n",
    "dt = tree.DecisionTreeClassifier()\n",
    "dt_random = RandomizedSearchCV(estimator = dt, param_distributions = random_grid, n_iter = 5000, cv = 2, verbose=2, random_state=42, n_jobs = -1)\n",
    "dt_random.fit(X_train_val, y_train_val)\n",
    "\n",
    "print(dt_random.best_params_)\n",
    "\n",
    "base_model = clf\n",
    "\n",
    "base_accuracy = accuracy_score(y_test, dtPredictionsTest)\n",
    "print(\"base_accuracy: \",base_accuracy)\n",
    "best_random = dt_random.best_estimator_\n",
    "dt_randomPredictionsTest = dt_random.predict(X_test)\n",
    "random_accuracy = accuracy_score(y_test, dt_randomPredictionsTest)\n",
    "print(\"random_accuracy: \",random_accuracy)\n",
    "\n",
    "print('Verbesserung um {:0.2f}%.'.format( 100 * (random_accuracy - base_accuracy) / base_accuracy))\n",
    "\n"
   ]
  },
  {
   "cell_type": "code",
   "execution_count": 5,
   "metadata": {},
   "outputs": [
    {
     "name": "stdout",
     "output_type": "stream",
     "text": [
      "Random\n",
      "           Predicted No cancer  Predicted cancer\n",
      "No cancer                   71                 1\n",
      "cancer                      10                32\n",
      "sensitivity 0.7619047619047619\n",
      "Specificity 0.9861111111111112\n"
     ]
    }
   ],
   "source": [
    "print(\"Random\")\n",
    "print(pd.DataFrame(\n",
    "    confusion_matrix(y_test, dt_randomPredictionsTest),\n",
    "    columns=['Predicted No cancer', 'Predicted cancer'],\n",
    "    index=['No cancer', 'cancer']\n",
    "))\n",
    "\n",
    "tn, fp, fn, tp = confusion_matrix(y_test, dt_randomPredictionsTest).ravel()\n",
    "specificity = tn/(tn+fp)\n",
    "sensitivity = tp/(tp+fn)\n",
    "\n",
    "print(\"sensitivity\", sensitivity)\n",
    "print(\"Specificity\", specificity)"
   ]
  },
  {
   "cell_type": "code",
   "execution_count": 6,
   "metadata": {},
   "outputs": [
    {
     "name": "stdout",
     "output_type": "stream",
     "text": [
      "Random Forest accuracy on the training set: 0.9956043956043956\n",
      "Random Forest accuracy on the test set: 0.9298245614035088\n",
      "Random Forest\n",
      "           Predicted No cancer  Predicted cancer\n",
      "No cancer                   69                 3\n",
      "cancer                       5                37\n",
      "sensitivity 0.8809523809523809\n",
      "Specificity 0.9583333333333334\n"
     ]
    },
    {
     "name": "stderr",
     "output_type": "stream",
     "text": [
      "/home/Uni/blaucloud/Informatik/Arbeit/ml/env/lib/python3.7/site-packages/sklearn/ensemble/forest.py:245: FutureWarning: The default value of n_estimators will change from 10 in version 0.20 to 100 in 0.22.\n",
      "  \"10 in version 0.20 to 100 in 0.22.\", FutureWarning)\n"
     ]
    }
   ],
   "source": [
    "# Random Forest\n",
    "rf = ensemble.RandomForestClassifier(random_state=7)\n",
    "rf.fit(X_train_val, y_train_val)\n",
    "\n",
    "rfPredictionsTrain = rf.predict(X_train_val)\n",
    "\n",
    "rfPredictionsTest = rf.predict(X_test)\n",
    "\n",
    "\n",
    "print(\"Random Forest accuracy on the training set:\", accuracy_score(y_train_val, rfPredictionsTrain))\n",
    "\n",
    "print(\"Random Forest accuracy on the test set:\", accuracy_score(y_test, rfPredictionsTest))\n",
    "\n",
    "#Sensitivity and Specificity\n",
    "\n",
    "print(\"Random Forest\")\n",
    "print(pd.DataFrame(\n",
    "    confusion_matrix(y_test, rfPredictionsTest),\n",
    "    columns=['Predicted No cancer', 'Predicted cancer'],\n",
    "    index=['No cancer', 'cancer']\n",
    "))\n",
    "\n",
    "tn, fp, fn, tp = confusion_matrix(y_test, rfPredictionsTest).ravel()\n",
    "specificity = tn/(tn+fp)\n",
    "sensitivity = tp/(tp+fn)\n",
    "\n",
    "print(\"sensitivity\", sensitivity)\n",
    "print(\"Specificity\", specificity)"
   ]
  },
  {
   "cell_type": "code",
   "execution_count": 7,
   "metadata": {},
   "outputs": [
    {
     "name": "stderr",
     "output_type": "stream",
     "text": [
      "/home/franz/miniconda3/envs/mainenv/lib/python3.7/site-packages/sklearn/ensemble/forest.py:245: FutureWarning: The default value of n_estimators will change from 10 in version 0.20 to 100 in 0.22.\n",
      "  \"10 in version 0.20 to 100 in 0.22.\", FutureWarning)\n"
     ]
    },
    {
     "name": "stdout",
     "output_type": "stream",
     "text": [
      "Random Forest optimized for recall\n",
      "[0.82142857 0.96428571 0.92592593 0.92592593 0.81481481]\n",
      "Random Forest optimised accuracy on the training set: 0.9945054945054945\n",
      "Random Forest optimised accuracy on the test set: 0.9473684210526315\n"
     ]
    },
    {
     "data": {
      "image/png": "[encoded data removed]",
      "text/plain": [
       "<Figure size 576x576 with 1 Axes>"
      ]
     },
     "metadata": {
      "needs_background": "light"
     },
     "output_type": "display_data"
    }
   ],
   "source": [
    "#Random Forest optimized for high sensitivity/recall\n",
    "rf_opt = ensemble.RandomForestClassifier(n_jobs=-1, random_state=42)\n",
    "\n",
    "\n",
    "rf_opt.fit(X_train, y_train)\n",
    "y_scores = rf_opt.predict_proba(X_train)[:,1]\n",
    "p, r, thresholds = precision_recall_curve(y_train, y_scores)\n",
    "\n",
    "print(\"Random Forest optimized for recall\")\n",
    "print(cross_val_score(rf_opt, X_train, y_train, scoring='recall', cv=5))\n",
    "    \n",
    "    \n",
    "def plot_precision_recall_vs_threshold(p, r, thresholds):\n",
    "    \"\"\"\n",
    "    Plots the precision-recall-graph for different thresholds. \n",
    "    Uses output of precision_recall_curve function in scikit-learn\n",
    "    \n",
    "    Parameters\n",
    "    ----------\n",
    "    p : numpy.ndarray\n",
    "        The list of all precision values\n",
    "    r : numpy.ndarray\n",
    "        The list of all recall values\n",
    "    thresholds : numpy.ndarray\n",
    "        The list of all thresholds\n",
    "    \"\"\"\n",
    "    \n",
    "    plt.figure(figsize=(8, 8))\n",
    "    plt.title(\"Precision and Recall Scores\")\n",
    "    plt.plot(thresholds, p[:-1], \"b-\", label=\"Precision\")\n",
    "    plt.plot(thresholds, r[:-1], \"r-\", label=\"Recall\")\n",
    "    plt.ylabel(\"Score\")\n",
    "    plt.xlabel(\"Decision Threshold\")\n",
    "    plt.legend(loc='best')\n",
    "\n",
    "threshold = 0.4\n",
    "\n",
    "y_scores = rf_opt.predict_proba(X_val)[:,1]\n",
    "p, r, thresholds = precision_recall_curve(y_val, y_scores)\n",
    "plot_precision_recall_vs_threshold(p, r, thresholds)\n",
    "\n",
    "\n",
    "predicted_probaTrain = rf_opt.predict_proba(X_train)\n",
    "rf_optPredictionsTrain = (predicted_probaTrain [:,1] >= threshold).astype('int')\n",
    "\n",
    "predicted_probaTest = rf_opt.predict_proba(X_test)\n",
    "rf_optPredictionsTest = (predicted_probaTest [:,1] >= threshold).astype('int')\n",
    "\n",
    "\n",
    "print(\"Random Forest optimised accuracy on the training set:\", accuracy_score(y_train, rf_optPredictionsTrain))\n",
    "\n",
    "print(\"Random Forest optimised accuracy on the test set:\", accuracy_score(y_test, rf_optPredictionsTest))\n"
   ]
  },
  {
   "cell_type": "code",
   "execution_count": 8,
   "metadata": {},
   "outputs": [
    {
     "name": "stdout",
     "output_type": "stream",
     "text": [
      "K Nearest Neighbors accuracy on the training set: 0.8989010989010989\n",
      "K Nearest Neighbors accuracy on the test set: 0.8859649122807017\n"
     ]
    },
    {
     "data": {
      "image/png": "[encoded data removed]",
      "text/plain": [
       "<Figure size 432x288 with 1 Axes>"
      ]
     },
     "metadata": {
      "needs_background": "light"
     },
     "output_type": "display_data"
    },
    {
     "name": "stdout",
     "output_type": "stream",
     "text": [
      "Maximum KNN Score is 88.60% at\n",
      "[18, 19, 20, 22, 23, 24, 25, 26, 27, 28, 30, 31, 32, 34]\n",
      "           Predicted No cancer  Predicted cancer\n",
      "No cancer                   72                 0\n",
      "cancer                      13                29\n",
      "sensitivity 0.6904761904761905\n",
      "Specificity 1.0\n"
     ]
    }
   ],
   "source": [
    "#KNN\n",
    "from sklearn.neighbors import KNeighborsClassifier\n",
    "\n",
    "knn = KNeighborsClassifier(n_neighbors=18)\n",
    "knn.fit(X_train_val, y_train_val)\n",
    "\n",
    "knnPredictionsTrain = knn.predict(X_train_val)\n",
    "\n",
    "knnPredictionsTest = knn.predict(X_test)\n",
    "\n",
    "\n",
    "print(\"K Nearest Neighbors accuracy on the training set:\", accuracy_score(y_train_val, knnPredictionsTrain))\n",
    "\n",
    "print(\"K Nearest Neighbors accuracy on the test set:\", accuracy_score(y_test, knnPredictionsTest))\n",
    "\n",
    "scoreList = []\n",
    "#Find best amount of neighbors\n",
    "for i in range(1,50):\n",
    "    knn2 = KNeighborsClassifier(n_neighbors = i)  \n",
    "    knn2.fit(X_train_val, y_train_val)\n",
    "    scoreList.append(knn2.score(X_test, y_test))\n",
    "    \n",
    "plt.plot(range(1,50), scoreList)\n",
    "plt.xticks(np.arange(1,50,1))\n",
    "plt.xlabel(\"K value\")\n",
    "plt.ylabel(\"Score\")\n",
    "plt.show()\n",
    "\n",
    "m = max(scoreList)\n",
    "[i for i, j in enumerate(scoreList) if j == m]\n",
    "\n",
    "print(\"Maximum KNN Score is {:.2f}% at\".format(m*100))\n",
    "print([i+1 for i, j in enumerate(scoreList) if j == m])\n",
    "\n",
    "#Sensitivity and Specificity\n",
    "print(pd.DataFrame(\n",
    "    confusion_matrix(y_test, knnPredictionsTest),\n",
    "    columns=['Predicted No cancer', 'Predicted cancer'],\n",
    "    index=['No cancer', 'cancer']\n",
    "))\n",
    "tn, fp, fn, tp = confusion_matrix(y_test, knnPredictionsTest).ravel()\n",
    "specificity = tn/(tn+fp)\n",
    "sensitivity = tp/(tp+fn)\n",
    "\n",
    "print(\"sensitivity\", sensitivity)\n",
    "print(\"Specificity\", specificity)\n"
   ]
  },
  {
   "cell_type": "code",
   "execution_count": 11,
   "metadata": {},
   "outputs": [
    {
     "data": {
      "text/plain": [
       "<function BufferedReader.close>"
      ]
     },
     "execution_count": 11,
     "metadata": {},
     "output_type": "execute_result"
    }
   ],
   "source": [
    "import joblib\n",
    "dtmodel_random = open(\"models/dtmodel_random.pkl\",\"wb\")\n",
    "joblib.dump(dt_random,dtmodel_random)\n",
    "dtmodel_random.close\n",
    "\n",
    "dtModel_simple = open(\"models/dtmodel_simple.pkl\", \"wb\")\n",
    "joblib.dump(clf, dtModel_simple)\n",
    "dtModel_simple.close\n",
    "\n",
    "knn_model = open(\"models/knn_model.pkl\", \"wb\")\n",
    "joblib.dump(knn, knn_model)\n",
    "knn_model.close\n",
    "\n",
    "rf_model = open(\"models/rf_model.pkl\", \"wb\")\n",
    "joblib.dump(rf, rf_model)\n",
    "rf_model.close\n",
    "\n",
    "rf_opt_model = open(\"models/rf_opt_model.pkl\", \"wb\")\n",
    "joblib.dump(rf_opt, rf_opt_model)\n",
    "rf_opt_model = open(\"models/rf_opt_model.pkl\", \"rb\")\n",
    "joblib.load(rf_opt_model)\n",
    "rf_opt_model.close"
   ]
  },
  {
   "cell_type": "code",
   "execution_count": null,
   "metadata": {},
   "outputs": [],
   "source": []
  },
  {
   "cell_type": "code",
   "execution_count": null,
   "metadata": {},
   "outputs": [],
   "source": []
  }
 ],
 "metadata": {
  "kernelspec": {
   "display_name": "Python 3",
   "language": "python",
   "name": "python3"
  },
  "language_info": {
   "codemirror_mode": {
    "name": "ipython",
    "version": 3
   },
   "file_extension": ".py",
   "mimetype": "text/x-python",
   "name": "python",
   "nbconvert_exporter": "python",
   "pygments_lexer": "ipython3",
   "version": "3.7.5"
  }
 },
 "nbformat": 4,
 "nbformat_minor": 2
}
